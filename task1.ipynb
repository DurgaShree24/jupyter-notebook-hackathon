{
 "cells": [
  {
   "cell_type": "code",
   "execution_count": null,
   "id": "6d4a34d4",
   "metadata": {},
   "outputs": [],
   "source": [
    "# # Do not forget to check if your notebook log collection plugin is working\n",
    "# from mining_extension import check_logging\n",
    "# check_logging(\"PASTE FULL URL HERE\")"
   ]
  }
 ],
 "metadata": {
  "kernelspec": {
   "display_name": "Python 3 (ipykernel)",
   "language": "python",
   "name": "python3"
  },
  "language_info": {
   "codemirror_mode": {
    "name": "ipython",
    "version": 3
   },
   "file_extension": ".py",
   "mimetype": "text/x-python",
   "name": "python",
   "nbconvert_exporter": "python",
   "pygments_lexer": "ipython3",
   "version": "3.11.3"
  }
 },
 "nbformat": 4,
 "nbformat_minor": 5
}
